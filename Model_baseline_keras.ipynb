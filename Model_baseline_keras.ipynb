{
 "cells": [
  {
   "cell_type": "code",
   "execution_count": 256,
   "metadata": {},
   "outputs": [],
   "source": [
    "import keras\n",
    "from keras.layers import Input, Activation, Dense, Conv2D, MaxPooling2D,Flatten,Lambda\n",
    "from keras.models import Model\n",
    "import keras.backend as K\n",
    "from keras.optimizers import SGD\n",
    "from keras.callbacks import LearningRateScheduler\n",
    "from keras.preprocessing.image import ImageDataGenerator"
   ]
  },
  {
   "cell_type": "code",
   "execution_count": null,
   "metadata": {},
   "outputs": [],
   "source": [
    "digit_input = Input(shape=(105,105,1))\n",
    "\n",
    "x = Conv2D(64, (10, 10),activation='relu',input_shape=(105,105,1))(digit_input)\n",
    "x = MaxPooling2D()(x)\n",
    "x = Conv2D(128, (8, 8),activation='relu')(x)\n",
    "x = MaxPooling2D()(x)\n",
    "x = Conv2D(128, (6, 6),activation ='relu')(x)\n",
    "x = MaxPooling2D()(x)\n",
    "x = Conv2D(256, (4, 4),activation='relu')(x)\n",
    "out = Flatten()(x)\n",
    "#out = Dense(4096,activation='sigmoid')(x)\n",
    "vision_model = Model(digit_input,out)\n",
    "\n",
    "letter1 = Input(shape=(105,105,1))\n",
    "letter2 = Input(shape=(105,105,1))\n",
    "\n",
    "out_1 = vision_model(letter1)\n",
    "out_2 = vision_model(letter2)\n",
    "\n",
    "def m_dist(A,B):\n",
    "    return K.sum(K.abs(A-B),axis=1,keepdims=True)\n",
    "\n",
    "merged_vector = Lambda(lambda x:m_dist(x[0],x[1]), output_shape=lambda inp_shp:(inp_shp[0][0],1))([out_1,out_2])\n",
    "\n",
    "out_fin = Dense(4096,activation=\"sigmoid\")(merged_vector)\n",
    "final_output = Dense(1,activation=\"sigmoid\")(out_fin)\n",
    "\n",
    "final_model = keras.models.Model(inputs=[letter1, letter2], outputs=final_output)"
   ]
  },
  {
   "cell_type": "code",
   "execution_count": 477,
   "metadata": {},
   "outputs": [],
   "source": [
    "import math\n",
    "from keras.optimizers import Adam\n",
    "from keras.callbacks import TensorBoard\n",
    "class LossHistory(keras.callbacks.Callback):\n",
    "    def on_train_begin(self, logs={}):\n",
    "        self.losses = []\n",
    "        self.val_losses=[]\n",
    "        \n",
    "    def on_epoch_end(self, batch, logs={}):\n",
    "        self.losses.append(logs.get('loss'))\n",
    "        self.val_losses.append(logs.get('val_loss'))\n",
    "\n",
    "def step_decay(epoch):\n",
    "    if epoch%3:\n",
    "        return K.get_value(optimizer.lr)*0.99\n",
    "    return K.get_value(optimizer.lr)\n",
    "  \n",
    "loss_history = LossHistory()\n",
    "lrate = LearningRateScheduler(step_decay)\n",
    "filepath=\"checkpoints/weight1.hdf5\"\n",
    "checkpoint = ModelCheckpoint(filepath, monitor='val_loss', verbose=1, save_best_only=True, mode='min')\n",
    "early_stopper = EarlyStopping(monitor='loss', min_delta=1e-5, patience=25, verbose=1)\n",
    "\n",
    "callbacks_list = [lrate,loss_history,checkpoint,early_stopper]\n",
    "\n",
    "optimizer = Adam(lr=3e-4,amsgrad=True)"
   ]
  },
  {
   "cell_type": "code",
   "execution_count": 494,
   "metadata": {},
   "outputs": [],
   "source": [
    "final_model.compile(optimizer=optimizer,\n",
    "                   loss='binary_crossentropy',\n",
    "                   metrics=['binary_accuracy'],)"
   ]
  },
  {
   "cell_type": "code",
   "execution_count": 495,
   "metadata": {},
   "outputs": [
    {
     "name": "stdout",
     "output_type": "stream",
     "text": [
      "_________________________________________________________________\n",
      "Layer (type)                 Output Shape              Param #   \n",
      "=================================================================\n",
      "input_7 (InputLayer)         (None, 105, 105, 1)       0         \n",
      "_________________________________________________________________\n",
      "conv2d_9 (Conv2D)            (None, 96, 96, 64)        6464      \n",
      "_________________________________________________________________\n",
      "max_pooling2d_7 (MaxPooling2 (None, 48, 48, 64)        0         \n",
      "_________________________________________________________________\n",
      "conv2d_10 (Conv2D)           (None, 41, 41, 128)       524416    \n",
      "_________________________________________________________________\n",
      "max_pooling2d_8 (MaxPooling2 (None, 20, 20, 128)       0         \n",
      "_________________________________________________________________\n",
      "conv2d_11 (Conv2D)           (None, 15, 15, 128)       589952    \n",
      "_________________________________________________________________\n",
      "max_pooling2d_9 (MaxPooling2 (None, 7, 7, 128)         0         \n",
      "_________________________________________________________________\n",
      "conv2d_12 (Conv2D)           (None, 4, 4, 256)         524544    \n",
      "_________________________________________________________________\n",
      "flatten_3 (Flatten)          (None, 4096)              0         \n",
      "=================================================================\n",
      "Total params: 1,645,376\n",
      "Trainable params: 1,645,376\n",
      "Non-trainable params: 0\n",
      "_________________________________________________________________\n"
     ]
    }
   ],
   "source": [
    "final_model.layers[2].summary()"
   ]
  },
  {
   "cell_type": "code",
   "execution_count": 496,
   "metadata": {},
   "outputs": [],
   "source": [
    "from matplotlib import pyplot as plt \n",
    "%matplotlib inline\n",
    "import glob\n",
    "import cv2\n",
    "import numpy as np\n",
    "from collections import Counter\n",
    "from IPython.core.display import display, HTML\n",
    "import random"
   ]
  },
  {
   "cell_type": "code",
   "execution_count": 497,
   "metadata": {},
   "outputs": [],
   "source": [
    "dataset_train_path , dataset_evaluation_path = (\"python/images_background/\",\"python/images_evaluation/\")\n",
    "\n",
    "languages = [path.split(\"/\")[-1] for path in glob.glob(dataset_train_path+\"*\")]\n",
    "languages_evaluation = [path.split(\"/\")[-1] for path in glob.glob(dataset_evaluation_path+\"*\")]"
   ]
  },
  {
   "cell_type": "code",
   "execution_count": null,
   "metadata": {},
   "outputs": [],
   "source": [
    "all_alphabets = {language:[cv2.cvtColor(cv2.imread(image),cv2.COLOR_RGB2GRAY) for image in glob.glob(dataset_train_path+language+\"/*/*\")]\\\n",
    "                                                                  for language in languages }\n",
    "all_images =  np.vstack([np.array(all_alphabets[key]) for key in all_alphabets])\n",
    "\n",
    "all_evaluation_alphabets = {language:[cv2.cvtColor(cv2.imread(image),cv2.COLOR_RGB2GRAY) for image in glob.glob(dataset_evaluation_path+language+\"/*/*\")]\\\n",
    "                                                                  for language in languages_evaluation[5:] }\n",
    "all_evaluation_images =  np.vstack([np.array(all_evaluation_alphabets[key]) for key in all_evaluation_alphabets])"
   ]
  },
  {
   "cell_type": "code",
   "execution_count": 491,
   "metadata": {},
   "outputs": [],
   "source": [
    "def plot_figures(figures, nrows = 1, ncols=1,figsize=(15,15),cmap=None):\n",
    "    \"\"\"Plot a dictionary of figures.\n",
    "\n",
    "    Parameters\n",
    "    ----------\n",
    "    figures : <title, figure> dictionary\n",
    "    ncols : number of columns of subplots wanted in the display\n",
    "    nrows : number of rows of subplots wanted in the figure\n",
    "    \"\"\"\n",
    "\n",
    "    fig, axeslist = plt.subplots(ncols=ncols, nrows=nrows,figsize=figsize)\n",
    "\n",
    "    for ind,title in enumerate(figures):\n",
    "        axeslist.ravel()[ind].imshow(figures[ind],cmap=cmap)\n",
    "        axeslist.ravel()[ind].set_title(ind)\n",
    "        axeslist.ravel()[ind].set_axis_off()\n",
    "    plt.tight_layout() # optional"
   ]
  },
  {
   "cell_type": "code",
   "execution_count": 232,
   "metadata": {
    "scrolled": false
   },
   "outputs": [
    {
     "data": {
      "image/png": "[encoded data removed]",
      "text/plain": [
       "<matplotlib.figure.Figure at 0x182a839710>"
      ]
     },
     "metadata": {},
     "output_type": "display_data"
    },
    {
     "data": {
      "image/png": "[encoded data removed]",
      "text/plain": [
       "<matplotlib.figure.Figure at 0x182bfbc438>"
      ]
     },
     "metadata": {},
     "output_type": "display_data"
    }
   ],
   "source": [
    "%matplotlib inline\n",
    "for image in (batch[0][0][4],batch[0][1][4]) :\n",
    "    plt.imshow(image.reshape(105,105),cmap=\"bone\")\n",
    "    plt.show()"
   ]
  },
  {
   "cell_type": "code",
   "execution_count": 498,
   "metadata": {},
   "outputs": [],
   "source": [
    "train_data_gen = ImageDataGenerator(\n",
    "    samplewise_center=True,\n",
    "    samplewise_std_normalization = True,\n",
    "    rotation_range =10,\n",
    "    width_shift_range = 0.05,\n",
    "    height_shift_range = 0.05,\n",
    "    shear_range = 0.05,\n",
    "    zoom_range = 0.05,\n",
    "    #rescale = 1./255         \n",
    ")\n",
    "\n",
    "def flip(p):\n",
    "    return random.random() < p\n",
    "\n",
    "def augmented_generator(features,batch_size,distribution,validation):\n",
    "    \n",
    "    batch_features = np.zeros((batch_size, 2,105, 105,1))\n",
    "    batch_labels = np.zeros((batch_size,1))\n",
    "    macro_dict = all_evaluation_alphabets if validation else all_alphabets\n",
    "    lengthes = np.insert(np.cumsum([len(macro_dict[key]) for key in macro_dict]),0,0)\n",
    "    \n",
    "    while True:\n",
    "\n",
    "        for i in range(batch_size):\n",
    "            if flip(distribution):\n",
    "                not_insame_class = True\n",
    "                while not_insame_class:\n",
    "                    indecies= np.random.choice(len(features),2)\n",
    "                    not_insame_class = np.argmax(lengthes-indecies[0]>0) != np.argmax(lengthes-indecies[1]>0)\n",
    "                batch_labels[i] = not_insame_class\n",
    "            else:\n",
    "                \n",
    "                first = np.searchsorted(lengthes,np.random.randint(1,len(features)))\n",
    "                indecies = np.zeros(2)\n",
    "                while abs(indecies[0]-indecies[1]) < 20 : indecies = np.random.choice(range(lengthes[first-1],lengthes[first]),2)\n",
    "                batch_labels[i] = True\n",
    "    \n",
    "            image1,image2 = features[indecies[0]].reshape(105,105,1),features[indecies[1]].reshape(105,105,1)\n",
    "            if not validation and flip(0.5): \n",
    "                generator1 , generator2 = train_data_gen.flow(image1[np.newaxis,:],batch_size=1) , train_data_gen.flow(image2[np.newaxis,:],batch_size=1)\n",
    "                image1,image2 = next(generator1),next(generator2)\n",
    "            batch_features[i] = (image1,image2)\n",
    "            \n",
    "        yield [batch_features[:,0],batch_features[:,1]], batch_labels"
   ]
  },
  {
   "cell_type": "code",
   "execution_count": 499,
   "metadata": {},
   "outputs": [
    {
     "name": "stdout",
     "output_type": "stream",
     "text": [
      "Epoch 1/2\n",
      " - 35s - loss: 0.9387 - binary_accuracy: 0.5187\n",
      "lr: 9.900000000000001e-05\n",
      "Epoch 2/2\n",
      " - 37s - loss: 0.7141 - binary_accuracy: 0.5156\n",
      "lr: 9.801e-05\n"
     ]
    }
   ],
   "source": [
    "history2 = final_model.fit_generator(augmented_generator(all_images,128,0.5,False),\n",
    "        validation_data= augmented_generator(all_evaluation_images,128,0.5,True),\n",
    "        validation_steps = 50,\n",
    "        steps_per_epoch=50,\n",
    "        verbose=2,\n",
    "        epochs=1000,          \n",
    "        callbacks=callbacks_list)"
   ]
  },
  {
   "cell_type": "code",
   "execution_count": 509,
   "metadata": {},
   "outputs": [
    {
     "data": {
      "text/plain": [
       "[<matplotlib.lines.Line2D at 0x184a209a90>]"
      ]
     },
     "execution_count": 509,
     "metadata": {},
     "output_type": "execute_result"
    },
    {
     "data": {
      "image/png": "[encoded data removed]",
      "text/plain": [
       "<matplotlib.figure.Figure at 0x184b916470>"
      ]
     },
     "metadata": {},
     "output_type": "display_data"
    }
   ],
   "source": [
    "plt.plot(history.history['loss'])"
   ]
  },
  {
   "cell_type": "code",
   "execution_count": 554,
   "metadata": {},
   "outputs": [],
   "source": [
    "def plot_kernels(model,layer_num):\n",
    "    \n",
    "    plt.imshow(model.get_weights()[layer_num][:, :, :, 0].squeeze(), cmap='gray')"
   ]
  },
  {
   "cell_type": "code",
   "execution_count": 553,
   "metadata": {},
   "outputs": [],
   "source": [
    "layer=final_model.get_layer(index=0)"
   ]
  },
  {
   "cell_type": "code",
   "execution_count": 523,
   "metadata": {},
   "outputs": [
    {
     "data": {
      "text/plain": [
       "{'binary_accuracy': [0.51875, 0.515625],\n",
       " 'loss': [0.9386626899242401, 0.7140816032886506]}"
      ]
     },
     "execution_count": 523,
     "metadata": {},
     "output_type": "execute_result"
    }
   ],
   "source": [
    "plot_kernels()"
   ]
  },
  {
   "cell_type": "code",
   "execution_count": null,
   "metadata": {},
   "outputs": [],
   "source": []
  }
 ],
 "metadata": {
  "kernelspec": {
   "display_name": "Python 3",
   "language": "python",
   "name": "python3"
  },
  "language_info": {
   "codemirror_mode": {
    "name": "ipython",
    "version": 3
   },
   "file_extension": ".py",
   "mimetype": "text/x-python",
   "name": "python",
   "nbconvert_exporter": "python",
   "pygments_lexer": "ipython3",
   "version": "3.6.5"
  }
 },
 "nbformat": 4,
 "nbformat_minor": 2
}
