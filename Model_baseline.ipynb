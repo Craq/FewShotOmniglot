{
 "cells": [
  {
   "cell_type": "code",
   "execution_count": 2,
   "metadata": {},
   "outputs": [
    {
     "name": "stderr",
     "output_type": "stream",
     "text": [
      "C:\\ProgramData\\Anaconda3\\lib\\site-packages\\h5py\\__init__.py:36: FutureWarning: Conversion of the second argument of issubdtype from `float` to `np.floating` is deprecated. In future, it will be treated as `np.float64 == np.dtype(float).type`.\n",
      "  from ._conv import register_converters as _register_converters\n",
      "Using TensorFlow backend.\n"
     ]
    }
   ],
   "source": [
    "import keras\n",
    "from keras.layers import Input, Activation, Dense, Conv2D, MaxPooling2D,Flatten,Lambda\n",
    "from keras.models import Model\n",
    "import keras.backend as K\n",
    "from keras.optimizers import SGD\n",
    "from keras.callbacks import LearningRateScheduler"
   ]
  },
  {
   "cell_type": "code",
   "execution_count": 3,
   "metadata": {},
   "outputs": [],
   "source": [
    "digit_input = Input(shape=(105,105,1))\n",
    "x = Conv2D(64, (10, 10),activation='relu',input_shape=(105,105,1))(digit_input)\n",
    "x = MaxPooling2D()(x)\n",
    "x = Conv2D(128, (8, 8),activation='relu')(x)\n",
    "x = MaxPooling2D()(x)\n",
    "x = Conv2D(128, (6, 6),activation='relu')(x)\n",
    "x = MaxPooling2D()(x)\n",
    "x = Conv2D(256, (4, 4),activation='relu')(x)\n",
    "out = Flatten()(x)\n",
    "#out = Dense(4096,activation='sigmoid')(x)\n",
    "vision_model = Model(digit_input,out)\n",
    "\n",
    "letter1 = Input(shape=(105,105,1))\n",
    "letter2 = Input(shape=(105,105,1))\n",
    "\n",
    "out_1 = vision_model(letter1)\n",
    "out_2 = vision_model(letter2)\n",
    "\n",
    "def m_dist(A,B):\n",
    "    return K.sum(K.abs(A-B),axis=1,keepdims=True)\n",
    "\n",
    "merged_vector = Lambda(lambda x:m_dist(x[0],x[1]), output_shape=lambda inp_shp:(inp_shp[0][0],1))([out_1,out_2])\n",
    "\n",
    "out_fin = Dense(4096,activation=\"sigmoid\")(merged_vector)\n",
    "final_output = Dense(1,activation=\"sigmoid\")(out_fin)\n",
    "\n",
    "final_model = keras.models.Model(inputs=[letter1, letter2], outputs=final_output)"
   ]
  },
  {
   "cell_type": "code",
   "execution_count": 4,
   "metadata": {},
   "outputs": [],
   "source": [
    "optimizer = SGD(lr=1e-3,momentum=0.5,decay=0,nesterov=False)"
   ]
  },
  {
   "cell_type": "code",
   "execution_count": 5,
   "metadata": {},
   "outputs": [],
   "source": [
    "final_model.compile(optimizer=optimizer,\n",
    "                   loss='binary_crossentropy',\n",
    "                   metrics=['binary_accuracy'],)"
   ]
  },
  {
   "cell_type": "code",
   "execution_count": 6,
   "metadata": {},
   "outputs": [
    {
     "name": "stdout",
     "output_type": "stream",
     "text": [
      "_________________________________________________________________\n",
      "Layer (type)                 Output Shape              Param #   \n",
      "=================================================================\n",
      "input_1 (InputLayer)         (None, 105, 105, 1)       0         \n",
      "_________________________________________________________________\n",
      "conv2d_1 (Conv2D)            (None, 96, 96, 64)        6464      \n",
      "_________________________________________________________________\n",
      "max_pooling2d_1 (MaxPooling2 (None, 48, 48, 64)        0         \n",
      "_________________________________________________________________\n",
      "conv2d_2 (Conv2D)            (None, 41, 41, 128)       524416    \n",
      "_________________________________________________________________\n",
      "max_pooling2d_2 (MaxPooling2 (None, 20, 20, 128)       0         \n",
      "_________________________________________________________________\n",
      "conv2d_3 (Conv2D)            (None, 15, 15, 128)       589952    \n",
      "_________________________________________________________________\n",
      "max_pooling2d_3 (MaxPooling2 (None, 7, 7, 128)         0         \n",
      "_________________________________________________________________\n",
      "conv2d_4 (Conv2D)            (None, 4, 4, 256)         524544    \n",
      "_________________________________________________________________\n",
      "flatten_1 (Flatten)          (None, 4096)              0         \n",
      "=================================================================\n",
      "Total params: 1,645,376\n",
      "Trainable params: 1,645,376\n",
      "Non-trainable params: 0\n",
      "_________________________________________________________________\n"
     ]
    }
   ],
   "source": [
    "final_model.layers[2].summary()"
   ]
  },
  {
   "cell_type": "code",
   "execution_count": 7,
   "metadata": {},
   "outputs": [],
   "source": [
    "from matplotlib import pyplot as plt \n",
    "%matplotlib inline\n",
    "import glob\n",
    "import cv2\n",
    "import numpy as np\n",
    "from collections import Counter\n",
    "from IPython.core.display import display, HTML\n",
    "import random"
   ]
  },
  {
   "cell_type": "code",
   "execution_count": 8,
   "metadata": {},
   "outputs": [],
   "source": [
    "dataset_path=\"python\\\\images_background\\\\\"\n",
    "languages = [path.split(\"\\\\\")[-1] for path in glob.glob(dataset_path+\"*\")]\n",
    "all_alphabets = {language:[cv2.cvtColor(cv2.imread(image),cv2.COLOR_RGB2GRAY) for image in glob.glob(dataset_path+language+\"/*/*\")]\\\n",
    "                                                                  for language in languages }\n",
    "lengthes = np.cumsum([len(all_alphabets[key]) for key in all_alphabets])  \n",
    "lengthes = np.insert(lengthes,0,0)\n",
    "all_images =  np.vstack([np.array(all_alphabets[key]) for key in all_alphabets])"
   ]
  },
  {
   "cell_type": "code",
   "execution_count": 9,
   "metadata": {},
   "outputs": [],
   "source": [
    "def flip(p):\n",
    "    # bigger p = less TRUE\n",
    "    # True - in same class\n",
    "    return random.random() < p\n",
    "def generator(features,batch_size,distribution):\n",
    "\n",
    "    # Create empty arrays to contain batch of features and labels#\n",
    "    batch_features = np.zeros((batch_size, 2,105, 105,1))\n",
    "    batch_labels = np.zeros((batch_size,1))\n",
    "    while True:\n",
    "        for i in range(batch_size):\n",
    "            if flip(distribution):\n",
    "                indecies= np.random.choice(len(all_images),2)\n",
    "            else:\n",
    "                first = np.searchsorted(lengthes, np.random.randint(1,len(all_images)))\n",
    "                indecies = np.random.choice(range(lengthes[first-1],lengthes[first]),2)\n",
    "            #print(indecies)\n",
    "            image1,image2 = all_images[indecies[0]].reshape(105,105,1),all_images[indecies[1]].reshape(105,105,1)\n",
    "            batch_features[i] = (image1,image2)\n",
    "            distance1,distance2 = lengthes-indecies[0],lengthes-indecies[1]\n",
    "            not_insame_class = np.argmax(distance1>0) != np.argmax(distance2>0)\n",
    "            batch_labels[i] = not_insame_class\n",
    "        yield [batch_features[:,0],batch_features[:,1]], batch_labels"
   ]
  },
  {
   "cell_type": "code",
   "execution_count": null,
   "metadata": {},
   "outputs": [
    {
     "name": "stdout",
     "output_type": "stream",
     "text": [
      "Epoch 1/50\n"
     ]
    }
   ],
   "source": [
    "final_model.fit_generator(generator(all_images,32,0.75),\n",
    "        steps_per_epoch=15,\n",
    "        verbose=2,\n",
    "        epochs=50)"
   ]
  }
 ],
 "metadata": {
  "kernelspec": {
   "display_name": "Python 3",
   "language": "python",
   "name": "python3"
  },
  "language_info": {
   "codemirror_mode": {
    "name": "ipython",
    "version": 3
   },
   "file_extension": ".py",
   "mimetype": "text/x-python",
   "name": "python",
   "nbconvert_exporter": "python",
   "pygments_lexer": "ipython3",
   "version": "3.6.5"
  }
 },
 "nbformat": 4,
 "nbformat_minor": 2
}
