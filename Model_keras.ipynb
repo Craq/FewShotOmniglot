{
 "cells": [
  {
   "cell_type": "code",
   "execution_count": 1,
   "metadata": {},
   "outputs": [
    {
     "name": "stderr",
     "output_type": "stream",
     "text": [
      "Using TensorFlow backend.\n"
     ]
    }
   ],
   "source": [
    "import keras\n",
    "from keras.layers import Input, Activation, Dense, Conv2D, MaxPooling2D, Flatten, Lambda, Dropout\n",
    "from keras.models import Model\n",
    "import keras.backend as K\n",
    "from keras.optimizers import SGD\n",
    "from keras.callbacks import LearningRateScheduler\n",
    "from keras.preprocessing.image import ImageDataGenerator\n",
    "from keras.regularizers import l2\n",
    "import tensorflow as tf\n",
    "import math\n",
    "from sklearn.manifold import TSNE\n",
    "from keras.optimizers import Adam\n",
    "from keras.callbacks import EarlyStopping"
   ]
  },
  {
   "cell_type": "code",
   "execution_count": 2,
   "metadata": {},
   "outputs": [],
   "source": [
    "def triplet_mask_acc(y_true,y_pred,N=4096,beta=4096,alpha=2):\n",
    "    #accuracy based on triplets. If anchor is closer to a positive+alpha, than to a    \n",
    "    #negative, then we count that as a correct prediction  \n",
    "    length=K.int_shape(y_pred)[1]\n",
    "    anchor = y_pred[:,0:N]\n",
    "    positive = y_pred[:,N:2*N]\n",
    "    negative = y_pred[:,2*N:3*N]\n",
    "    pos_dist = K.sum(K.square(anchor-positive),axis=1)\n",
    "\n",
    "    # distance between the anchor and the negative\n",
    "    neg_dist = K.sum(K.square(anchor-negative),axis=1)\n",
    "    return K.cast((pos_dist + alpha < neg_dist),float)\n",
    "\n",
    "def triplet_loss(y_true, y_pred, N = 4096, alpha=2):\n",
    "    \"\"\" \n",
    "    Triplet loss function \n",
    "     \n",
    "    Arguments: \n",
    "    y_true -- true labels\n",
    "    y_pred -- list containing three objects: \n",
    "            anchor -- the encodings for the anchor data \n",
    "            positive -- the encodings for the positive data (similar to anchor) \n",
    "            negative -- the encodings for the negative data (different from anchor) \n",
    "    N  --  The number of dimension  \n",
    "     \n",
    "    Returns: \n",
    "    loss -- real number, value of the triplet loss \n",
    "    \"\"\"  \n",
    "\n",
    "    anchor = y_pred[:,0:N]\n",
    "    positive = y_pred[:,N:2*N]\n",
    "    negative = y_pred[:,2*N:3*N]\n",
    "\n",
    "    # distance between the anchor and the positive\n",
    "    pos_dist = K.sum(K.square(anchor-positive),axis=1)\n",
    "\n",
    "    # distance between the anchor and the negative\n",
    "    neg_dist = K.sum(K.square(anchor-negative),axis=1)\n",
    "\n",
    "    # compute loss\n",
    "    basic_loss = pos_dist-neg_dist+alpha\n",
    "    loss = K.maximum(basic_loss,0.0)\n",
    " \n",
    "    return loss"
   ]
  },
  {
   "cell_type": "code",
   "execution_count": 3,
   "metadata": {},
   "outputs": [],
   "source": [
    "# Clear previous session if still in cache\n",
    "K.clear_session()\n",
    "def create_model():\n",
    "    # Siamese Model\n",
    "    net = keras.models.Sequential()\n",
    "\n",
    "    net.add(keras.layers.Conv2D(filters=64, kernel_size=(10, 10),\n",
    "                            input_shape=(105, 105, 1),\n",
    "                            activation='relu',name='conv1'))\n",
    "    net.add(keras.layers.MaxPool2D(pool_size=(2, 2)))\n",
    "\n",
    "    net.add(keras.layers.Conv2D(filters=128, kernel_size=(7, 7),\n",
    "                            activation='relu',name='conv2'))\n",
    "    net.add(keras.layers.MaxPool2D(pool_size=(2, 2)))\n",
    "\n",
    "    net.add(keras.layers.Conv2D(filters=128, kernel_size=(4, 4),\n",
    "                            activation='relu'))\n",
    "    net.add(keras.layers.MaxPool2D(pool_size=(2, 2),name='conv3'))\n",
    "\n",
    "    net.add(keras.layers.Conv2D(filters=256, kernel_size=(4, 4),\n",
    "                            activation='relu',name='conv4'))\n",
    "    net.add(keras.layers.MaxPool2D(pool_size=(2, 2)))\n",
    "\n",
    "    net.add(keras.layers.Flatten())\n",
    "    net.add(keras.layers.Dense(units=4096, activation='sigmoid',name='dense'))\n",
    "    return net\n",
    "\n",
    "# Call the Sequential model on each input with shared weights.\n",
    "pair_1st = keras.Input(shape=(105, 105, 1))\n",
    "pair_2nd = keras.Input(shape=(105, 105, 1))\n",
    "pair_3rd = keras.Input(shape=(105, 105, 1))\n",
    "\n",
    "model = create_model()\n",
    "anchor = model(pair_1st)\n",
    "pos = model(pair_2nd)\n",
    "neg = model(pair_3rd)\n",
    "# Merge three outputs into a single vector (12288,1)  \n",
    "outputs = keras.layers.concatenate([anchor, pos, neg])\n",
    "\n",
    "# Return a keras Model architecture.\n",
    "final_model = keras.Model(inputs=[pair_1st, pair_2nd,pair_3rd], outputs=outputs)"
   ]
  },
  {
   "cell_type": "code",
   "execution_count": 4,
   "metadata": {},
   "outputs": [],
   "source": [
    "decay_slope = 1/10.0\n",
    "\n",
    "class LossHistory(keras.callbacks.Callback):\n",
    "    def on_train_begin(self, logs={}):\n",
    "        self.losses = []\n",
    "        self.val_losses=[]\n",
    "        self.best_val_acc = 0\n",
    "        \n",
    "def step_decay(epoch):\n",
    "    #Although Adam is an adaptive learning rate algorithm, research has proven that \n",
    "    #it is a good practice to decay the learning rate every n steps  \n",
    "    if not epoch%2:\n",
    "        return K.get_value(optimizer.lr)*0.99\n",
    "    return K.get_value(optimizer.lr)\n",
    "  \n",
    "loss_history = LossHistory()\n",
    "lrate = LearningRateScheduler(step_decay)\n",
    "#in case val_loss doesn’t shrink for 6 epochs – stop training  \n",
    "early_stopper = EarlyStopping(monitor='val_loss', min_delta=1e-5, patience=6, verbose=1)\n",
    "\n",
    "callbacks_list = [lrate,loss_history,early_stopper]\n",
    "\n",
    "optimizer = Adam(lr=1e-4,amsgrad=True)"
   ]
  },
  {
   "cell_type": "code",
   "execution_count": 5,
   "metadata": {},
   "outputs": [],
   "source": [
    "final_model.compile(optimizer=optimizer,\n",
    "                   loss=triplet_loss,\n",
    "                   metrics=[triplet_mask_acc],)"
   ]
  },
  {
   "cell_type": "code",
   "execution_count": 6,
   "metadata": {},
   "outputs": [
    {
     "name": "stdout",
     "output_type": "stream",
     "text": [
      "_________________________________________________________________\n",
      "Layer (type)                 Output Shape              Param #   \n",
      "=================================================================\n",
      "conv1 (Conv2D)               (None, 96, 96, 64)        6464      \n",
      "_________________________________________________________________\n",
      "max_pooling2d_1 (MaxPooling2 (None, 48, 48, 64)        0         \n",
      "_________________________________________________________________\n",
      "conv2 (Conv2D)               (None, 42, 42, 128)       401536    \n",
      "_________________________________________________________________\n",
      "max_pooling2d_2 (MaxPooling2 (None, 21, 21, 128)       0         \n",
      "_________________________________________________________________\n",
      "conv2d_1 (Conv2D)            (None, 18, 18, 128)       262272    \n",
      "_________________________________________________________________\n",
      "conv3 (MaxPooling2D)         (None, 9, 9, 128)         0         \n",
      "_________________________________________________________________\n",
      "conv4 (Conv2D)               (None, 6, 6, 256)         524544    \n",
      "_________________________________________________________________\n",
      "max_pooling2d_3 (MaxPooling2 (None, 3, 3, 256)         0         \n",
      "_________________________________________________________________\n",
      "flatten_1 (Flatten)          (None, 2304)              0         \n",
      "_________________________________________________________________\n",
      "dense (Dense)                (None, 4096)              9441280   \n",
      "=================================================================\n",
      "Total params: 10,636,096\n",
      "Trainable params: 10,636,096\n",
      "Non-trainable params: 0\n",
      "_________________________________________________________________\n"
     ]
    }
   ],
   "source": [
    "final_model.layers[3].summary()"
   ]
  },
  {
   "cell_type": "code",
   "execution_count": 7,
   "metadata": {},
   "outputs": [],
   "source": [
    "from matplotlib import pyplot as plt \n",
    "%matplotlib inline\n",
    "import glob\n",
    "import cv2\n",
    "import numpy as np\n",
    "from collections import Counter\n",
    "from IPython.core.display import display, HTML\n",
    "import random"
   ]
  },
  {
   "cell_type": "code",
   "execution_count": 8,
   "metadata": {
    "collapsed": true
   },
   "outputs": [],
   "source": [
    "dataset_train_path , dataset_evaluation_path = (\"python/images_background/\",\"python/images_evaluation/\")\n",
    "\n",
    "languages = [path.split(\"/\")[-1] for path in glob.glob(dataset_train_path+\"*\")]\n",
    "languages_evaluation = [path.split(\"/\")[-1] for path in glob.glob(dataset_evaluation_path+\"*\")]"
   ]
  },
  {
   "cell_type": "code",
   "execution_count": 9,
   "metadata": {},
   "outputs": [],
   "source": [
    "symbols = {language:[] for language in languages}\n",
    "for path in glob.glob(dataset_train_path+\"/*/*\"):\n",
    "    symbols[path.split(\"/\")[2]].append(path.split(\"/\")[3])\n",
    "symbols_eval = {language:[] for language in languages_evaluation}\n",
    "for path in glob.glob(dataset_evaluation_path+\"/*/*\"):\n",
    "    symbols_eval[path.split(\"/\")[2]].append(path.split(\"/\")[3])"
   ]
  },
  {
   "cell_type": "code",
   "execution_count": 10,
   "metadata": {},
   "outputs": [],
   "source": [
    "# Read and process data to arrays and dicts  \n",
    "all_alphabets = {language:{symbol:[cv2.cvtColor(cv2.imread(image),cv2.COLOR_RGB2GRAY) for image in glob.glob(dataset_train_path+language+'/'+symbol+\"/*\")] for symbol in symbols[language]}\\\n",
    "                                                                  for language in languages }\n",
    "all_images = []\n",
    "for language in all_alphabets:\n",
    "    for char in all_alphabets[language]:\n",
    "        all_images.append(all_alphabets[language][char])\n",
    "all_images = np.array(all_images)       \n",
    "all_evaluation_alphabets = {language:{symbol:[cv2.cvtColor(cv2.imread(image),cv2.COLOR_RGB2GRAY) for image in glob.glob(dataset_evaluation_path+language+'/'+symbol+\"/*\")] for symbol in symbols_eval[language]}\\\n",
    "                                                                  for language in languages_evaluation[5:] }\n",
    "all_test_alphabets = {language:{symbol:[cv2.cvtColor(cv2.imread(image),cv2.COLOR_RGB2GRAY) for image in glob.glob(dataset_evaluation_path+language+'/'+symbol+\"/*\")] for symbol in symbols_eval[language]}\\\n",
    "                                                                  for language in languages_evaluation[:5] }\n",
    "all_evaluation_images = []\n",
    "for language in all_evaluation_alphabets:\n",
    "    for char in all_evaluation_alphabets[language]:\n",
    "        all_evaluation_images.append(all_evaluation_alphabets[language][char])\n",
    "all_evaluation_images = np.array(all_evaluation_images)\n",
    "        \n",
    "all_test_images = []\n",
    "for language in all_test_alphabets:\n",
    "    for char in all_test_alphabets[language]:\n",
    "        all_test_images.append(all_test_alphabets[language][char])\n",
    "all_test_images = np.array(all_test_images)"
   ]
  },
  {
   "cell_type": "code",
   "execution_count": 11,
   "metadata": {
    "collapsed": true
   },
   "outputs": [],
   "source": [
    "#create a batch of triplets (batch_size,3,105,105,1) to feed it into the model  \n",
    "def augmented_generator_triplet(features,batch_size,validation):\n",
    "    \n",
    "    batch_features = np.zeros((batch_size, 3,105, 105,1))\n",
    "    y = np.ones(batch_size)\n",
    "    ceil = all_evaluation_images.shape[0] if validation else all_images.shape[0]\n",
    "    while True:\n",
    "        for i in range(batch_size):\n",
    "            anchor = np.random.choice(range(ceil),2,replace=False)\n",
    "            indices = np.random.randint(0,20,3)\n",
    "            image1,image2,image3 = features[anchor[0],indices[0]].reshape(105,105,1),features[anchor[0],indices[1]].reshape(105,105,1),features[anchor[1],indices[2]].reshape(105,105,1)\n",
    "            batch_features[i] = [image1,image2,image3]\n",
    "            \n",
    "        yield [batch_features[:,0],batch_features[:,1],batch_features[:,2]], y"
   ]
  },
  {
   "cell_type": "code",
   "execution_count": 12,
   "metadata": {},
   "outputs": [
    {
     "name": "stdout",
     "output_type": "stream",
     "text": [
      "Epoch 1/100\n",
      " - 20s - loss: 0.8655 - triplet_mask_acc: 0.5771 - val_loss: 0.9444 - val_triplet_mask_acc: 0.5309\n",
      "Epoch 2/100\n",
      " - 16s - loss: 0.7494 - triplet_mask_acc: 0.6024 - val_loss: 0.9291 - val_triplet_mask_acc: 0.5662\n",
      "Epoch 3/100\n",
      " - 16s - loss: 0.7457 - triplet_mask_acc: 0.6147 - val_loss: 0.9273 - val_triplet_mask_acc: 0.5552\n",
      "Epoch 4/100\n",
      " - 16s - loss: 0.7114 - triplet_mask_acc: 0.6348 - val_loss: 0.8540 - val_triplet_mask_acc: 0.4984\n",
      "Epoch 5/100\n",
      " - 16s - loss: 0.6346 - triplet_mask_acc: 0.6791 - val_loss: 0.7828 - val_triplet_mask_acc: 0.6709\n",
      "Epoch 6/100\n",
      " - 16s - loss: 0.5262 - triplet_mask_acc: 0.7302 - val_loss: 0.6361 - val_triplet_mask_acc: 0.7250\n",
      "Epoch 7/100\n",
      " - 16s - loss: 0.4059 - triplet_mask_acc: 0.7892 - val_loss: 0.5580 - val_triplet_mask_acc: 0.7817\n",
      "Epoch 8/100\n",
      " - 16s - loss: 0.3007 - triplet_mask_acc: 0.8384 - val_loss: 0.4665 - val_triplet_mask_acc: 0.7922\n",
      "Epoch 9/100\n",
      " - 16s - loss: 0.2676 - triplet_mask_acc: 0.8637 - val_loss: 0.4268 - val_triplet_mask_acc: 0.8177\n",
      "Epoch 10/100\n",
      " - 16s - loss: 0.2148 - triplet_mask_acc: 0.8852 - val_loss: 0.4131 - val_triplet_mask_acc: 0.8206\n",
      "Epoch 11/100\n",
      " - 16s - loss: 0.2134 - triplet_mask_acc: 0.8870 - val_loss: 0.3790 - val_triplet_mask_acc: 0.8430\n",
      "Epoch 12/100\n",
      " - 16s - loss: 0.2028 - triplet_mask_acc: 0.8927 - val_loss: 0.3649 - val_triplet_mask_acc: 0.8358\n",
      "Epoch 13/100\n",
      " - 16s - loss: 0.1702 - triplet_mask_acc: 0.9096 - val_loss: 0.3469 - val_triplet_mask_acc: 0.8595\n",
      "Epoch 14/100\n",
      " - 16s - loss: 0.1596 - triplet_mask_acc: 0.9186 - val_loss: 0.3728 - val_triplet_mask_acc: 0.8535\n",
      "Epoch 15/100\n",
      " - 16s - loss: 0.1656 - triplet_mask_acc: 0.9171 - val_loss: 0.3415 - val_triplet_mask_acc: 0.8712\n",
      "Epoch 16/100\n",
      " - 16s - loss: 0.1426 - triplet_mask_acc: 0.9262 - val_loss: 0.3370 - val_triplet_mask_acc: 0.8666\n",
      "Epoch 17/100\n",
      " - 16s - loss: 0.1407 - triplet_mask_acc: 0.9286 - val_loss: 0.3174 - val_triplet_mask_acc: 0.8628\n",
      "Epoch 18/100\n",
      " - 16s - loss: 0.1410 - triplet_mask_acc: 0.9266 - val_loss: 0.3198 - val_triplet_mask_acc: 0.8660\n",
      "Epoch 19/100\n",
      " - 16s - loss: 0.1199 - triplet_mask_acc: 0.9387 - val_loss: 0.3090 - val_triplet_mask_acc: 0.8865\n",
      "Epoch 20/100\n",
      " - 16s - loss: 0.1257 - triplet_mask_acc: 0.9373 - val_loss: 0.3219 - val_triplet_mask_acc: 0.8759\n",
      "Epoch 21/100\n",
      " - 16s - loss: 0.1221 - triplet_mask_acc: 0.9390 - val_loss: 0.3275 - val_triplet_mask_acc: 0.8663\n",
      "Epoch 22/100\n",
      " - 16s - loss: 0.1250 - triplet_mask_acc: 0.9373 - val_loss: 0.3593 - val_triplet_mask_acc: 0.8625\n",
      "Epoch 23/100\n",
      " - 16s - loss: 0.1211 - triplet_mask_acc: 0.9406 - val_loss: 0.3272 - val_triplet_mask_acc: 0.8787\n",
      "Epoch 24/100\n",
      " - 16s - loss: 0.1138 - triplet_mask_acc: 0.9391 - val_loss: 0.2969 - val_triplet_mask_acc: 0.8862\n",
      "Epoch 25/100\n",
      " - 16s - loss: 0.1122 - triplet_mask_acc: 0.9428 - val_loss: 0.2883 - val_triplet_mask_acc: 0.8938\n",
      "Epoch 26/100\n",
      " - 16s - loss: 0.1032 - triplet_mask_acc: 0.9496 - val_loss: 0.3124 - val_triplet_mask_acc: 0.8828\n",
      "Epoch 27/100\n",
      " - 16s - loss: 0.1108 - triplet_mask_acc: 0.9479 - val_loss: 0.2735 - val_triplet_mask_acc: 0.8911\n",
      "Epoch 28/100\n",
      " - 16s - loss: 0.0999 - triplet_mask_acc: 0.9493 - val_loss: 0.3097 - val_triplet_mask_acc: 0.8867\n",
      "Epoch 29/100\n",
      " - 16s - loss: 0.1082 - triplet_mask_acc: 0.9491 - val_loss: 0.2798 - val_triplet_mask_acc: 0.8900\n",
      "Epoch 30/100\n",
      " - 16s - loss: 0.0941 - triplet_mask_acc: 0.9525 - val_loss: 0.2967 - val_triplet_mask_acc: 0.8966\n",
      "Epoch 31/100\n",
      " - 16s - loss: 0.1074 - triplet_mask_acc: 0.9513 - val_loss: 0.2866 - val_triplet_mask_acc: 0.8723\n",
      "Epoch 32/100\n",
      " - 16s - loss: 0.1104 - triplet_mask_acc: 0.9471 - val_loss: 0.2952 - val_triplet_mask_acc: 0.8757\n",
      "Epoch 33/100\n",
      " - 16s - loss: 0.0985 - triplet_mask_acc: 0.9484 - val_loss: 0.2865 - val_triplet_mask_acc: 0.8927\n",
      "Epoch 00033: early stopping\n"
     ]
    }
   ],
   "source": [
    "#train out Siamese Neural Network using the above triplet generator\n",
    "history = final_model.fit_generator(augmented_generator_triplet(all_images,128,False),\n",
    "        validation_data= augmented_generator_triplet(all_evaluation_images,128,True),\n",
    "        validation_steps = 100,\n",
    "        steps_per_epoch=100,\n",
    "        verbose=2,\n",
    "        epochs=100,\n",
    "        callbacks=callbacks_list)"
   ]
  },
  {
   "cell_type": "code",
   "execution_count": 15,
   "metadata": {},
   "outputs": [
    {
     "data": {
      "text/plain": [
       "<matplotlib.legend.Legend at 0x7f6900280b38>"
      ]
     },
     "execution_count": 15,
     "metadata": {},
     "output_type": "execute_result"
    },
    {
     "data": {
      "image/png": "[encoded data removed]",
      "text/plain": [
       "<Figure size 1080x720 with 1 Axes>"
      ]
     },
     "metadata": {},
     "output_type": "display_data"
    }
   ],
   "source": [
    "fig,ax=plt.subplots(figsize=(15,10)) # Visualize loss and accuracy\n",
    "length = len(history.history['loss'])\n",
    "for i in history.history:\n",
    "    plt.plot(range(1,length+1),history.history[i])\n",
    "plt.legend(['val_loss','val_triplet_mask_acc','loss','triplet_mask_acc'])"
   ]
  },
  {
   "cell_type": "code",
   "execution_count": 16,
   "metadata": {},
   "outputs": [],
   "source": [
    "new_model = Model(inputs=final_model.layers[3].get_input_at(-1),outputs=final_model.layers[3].get_output_at(-1))"
   ]
  },
  {
   "cell_type": "code",
   "execution_count": 17,
   "metadata": {
    "collapsed": true
   },
   "outputs": [],
   "source": [
    "images = np.vstack((all_images,all_evaluation_images,all_test_images))"
   ]
  },
  {
   "cell_type": "code",
   "execution_count": 18,
   "metadata": {},
   "outputs": [
    {
     "data": {
      "text/plain": [
       "(1623, 20, 105, 105)"
      ]
     },
     "execution_count": 18,
     "metadata": {},
     "output_type": "execute_result"
    }
   ],
   "source": [
    "images.shape"
   ]
  },
  {
   "cell_type": "code",
   "execution_count": 19,
   "metadata": {
    "collapsed": true
   },
   "outputs": [],
   "source": [
    "def L2_distance(a,b):\n",
    "    return np.linalg.norm(a-b)"
   ]
  },
  {
   "cell_type": "code",
   "execution_count": 20,
   "metadata": {},
   "outputs": [
    {
     "name": "stdout",
     "output_type": "stream",
     "text": [
      "Score on  20  task:  87.35000000000001 %\n"
     ]
    }
   ],
   "source": [
    "N_way = 20 # against what amount of random samples to test\n",
    "batch = np.random.randint(0,1623,10000)\n",
    "score = 0\n",
    "#for every random character create a set of N_way random characters and find   \n",
    "#the closes character emebedding by predicting it with the model. In every set   \n",
    "#there are guaranteed two images of the same class.  \n",
    "for i in batch:\n",
    "    ind_true = np.random.choice(20,2)\n",
    "    indicies = np.random.randint(0,20,N_way-2)\n",
    "    all_ind = np.hstack((ind_true,indicies))\n",
    "    classes = np.random.randint(0,1623,N_way-2)\n",
    "    imgs = [images[i,ind_true[0],:,:],images[i,ind_true[1],:,:]]\n",
    "    for k,val in enumerate(indicies):\n",
    "        imgs.append(images[classes[k],val,:,:])\n",
    "    imgs = np.array(imgs).reshape(N_way,105,105,1)\n",
    "    prediction = new_model.predict(imgs)\n",
    "    distances = []\n",
    "    classes = np.hstack((i,classes))\n",
    "    for j in prediction[1:]:\n",
    "        distances.append(L2_distance(prediction[0],j))\n",
    "    predicted = distances.index(np.min(distances))\n",
    "    if classes[predicted]==i: score += 1\n",
    "print(\"Score on \",N_way,\" task: \",score/batch.shape[0]*100,\"%\")"
   ]
  },
  {
   "cell_type": "code",
   "execution_count": 21,
   "metadata": {},
   "outputs": [],
   "source": [
    "preds = np.array([new_model.predict(all_test_images[i].reshape(20,105,105,1)) for i in range(20)])"
   ]
  },
  {
   "cell_type": "code",
   "execution_count": 22,
   "metadata": {},
   "outputs": [],
   "source": [
    "xs,ys,vec = preds.shape\n",
    "preds = preds.reshape(xs*ys,vec)"
   ]
  },
  {
   "cell_type": "code",
   "execution_count": 25,
   "metadata": {},
   "outputs": [],
   "source": [
    "from sklearn.manifold import TSNE\n",
    "tsne = TSNE(n_components=2)\n",
    "preds_transformed = tsne.fit_transform(preds) # reduce the dimensionality of our 4096 vectors \n",
    "#and save the higher dimension representation for visualization  "
   ]
  },
  {
   "cell_type": "code",
   "execution_count": 26,
   "metadata": {},
   "outputs": [
    {
     "data": {
      "image/png": "[encoded data removed]",
      "text/plain": [
       "<Figure size 936x720 with 1 Axes>"
      ]
     },
     "metadata": {},
     "output_type": "display_data"
    }
   ],
   "source": [
    "colors = ['r', 'g', 'b', 'c', 'm', 'y', 'k', 'w', 'orange', 'purple','pink','lime',\n",
    "          'gray','snow','teal','aliceblue','navy','dimgray','lightsalmon','indigo']\n",
    "plt.figure(figsize=(13, 10))\n",
    "for i in range(20): #visualize  \n",
    "    plt.scatter(preds_transformed.T[0][i*20:(i+1)*20],preds_transformed.T[1][i*20:(i+1)*20],c=colors[i])"
   ]
  }
 ],
 "metadata": {
  "kernelspec": {
   "display_name": "Python 3",
   "language": "python",
   "name": "python3"
  },
  "language_info": {
   "codemirror_mode": {
    "name": "ipython",
    "version": 3
   },
   "file_extension": ".py",
   "mimetype": "text/x-python",
   "name": "python",
   "nbconvert_exporter": "python",
   "pygments_lexer": "ipython3",
   "version": "3.6.5"
  }
 },
 "nbformat": 4,
 "nbformat_minor": 2
}
